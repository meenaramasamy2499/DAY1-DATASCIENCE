{
 "cells": [
  {
   "cell_type": "code",
   "execution_count": 3,
   "metadata": {},
   "outputs": [
    {
     "name": "stdout",
     "output_type": "stream",
     "text": [
      "Given the following jumbled word, OBANWRI guess the correct English word.\n",
      "A. RANIBOW\n",
      "B. RAINBOW\n",
      "C. BOWRANI\n",
      "D. ROBWANI\n",
      "Please Enter your option\n",
      "A\n",
      "Sorry your are wrong\n"
     ]
    }
   ],
   "source": [
    "\n",
    "print(\"Given the following jumbled word, OBANWRI guess the correct English word.\"\n",
    "\"\\nA. RANIBOW\"\n",
    "\"\\nB. RAINBOW\"\n",
    "\"\\nC. BOWRANI\"\n",
    "\"\\nD. ROBWANI\")\n",
    "\n",
    "A = \"RANIBOW\"\n",
    "B = \"RAINBOW\"\n",
    "C = \"BOWRANI\"\n",
    "D = \"ROBWANI\"\n",
    "\n",
    "print(\"Please Enter your option\")\n",
    "ans = input()\n",
    "\n",
    "if ans == \"A\":\n",
    "    print(\"Sorry your are wrong\")\n",
    "elif ans == \"B\":\n",
    "    print(\"Congratulations, Your option is Right\")\n",
    "elif ans == \"C\":\n",
    "    print(\"Sorry your are wrong\")\n",
    "elif ans == \"D\":\n",
    "    print(\"Sorry your are wrong\")\n",
    "else:\n",
    "    print(\"Please Choose above option\")\n"
   ]
  },
  {
   "cell_type": "markdown",
   "metadata": {},
   "source": [
    "# Write a program which prints “LETS UPGRADE”. (Please note that you have to print in ALL CAPS as given"
   ]
  },
  {
   "cell_type": "code",
   "execution_count": 1,
   "metadata": {},
   "outputs": [
    {
     "name": "stdout",
     "output_type": "stream",
     "text": [
      "LETS UPGRADE\n"
     ]
    }
   ],
   "source": [
    "print(\"LETS UPGRADE\")"
   ]
  },
  {
   "cell_type": "markdown",
   "metadata": {},
   "source": [
    "# Write a program that takes cost price and selling price as input and displays whether the transaction is aProfit or a Loss or Neither.\n",
    "INPUT FORMAT\n",
    "The first line contains the cost price.\n",
    "The second line contains the selling price.\n",
    "OUTPUT FORMAT\n",
    "Print \"Profit\" if the transaction is a profit or \"Loss\" if it is a loss. If it is neither\n",
    "profit nor loss, print \"Neither\". (You must not have quotes in your output)\n",
    "NOTE:\n",
    "Please stick to the input and output format. Don't add anything extra like\n",
    "'Enter cost price', 'Enter selling price', etc."
   ]
  },
  {
   "cell_type": "code",
   "execution_count": 8,
   "metadata": {},
   "outputs": [
    {
     "name": "stdout",
     "output_type": "stream",
     "text": [
      "x is 20\n",
      "y is30\n",
      "Profit\n"
     ]
    }
   ],
   "source": [
    "# x = costprice y = selling price\n",
    "x=int(input(\"x is \"));\n",
    "y=int(input(\"y is\"));\n",
    "if y>x:\n",
    "    print (\"Profit\");\n",
    "elif x>y:\n",
    "    print (\"Loss\");\n",
    "else: \n",
    "    print (\"Neither\");\n",
    "\n",
    "\n",
    "\n"
   ]
  },
  {
   "cell_type": "code",
   "execution_count": 9,
   "metadata": {},
   "outputs": [
    {
     "name": "stdout",
     "output_type": "stream",
     "text": [
      "x is 20\n",
      "y is10\n",
      "Loss\n"
     ]
    }
   ],
   "source": [
    "# x = costprice y = selling price\n",
    "x=int(input(\"x is \"));\n",
    "y=int(input(\"y is\"));\n",
    "if y>x:\n",
    "    print (\"Profit\");\n",
    "elif x>y:\n",
    "    print (\"Loss\");\n",
    "else: \n",
    "    print (\"Neither\");\n",
    "\n"
   ]
  },
  {
   "cell_type": "code",
   "execution_count": 10,
   "metadata": {},
   "outputs": [
    {
     "name": "stdout",
     "output_type": "stream",
     "text": [
      "x is 20\n",
      "y is20\n",
      "Neither\n"
     ]
    }
   ],
   "source": [
    "# x = costprice y = selling price\n",
    "x=int(input(\"x is \"));\n",
    "y=int(input(\"y is\"));\n",
    "if y>x:\n",
    "    print (\"Profit\");\n",
    "elif x>y:\n",
    "    print (\"Loss\");\n",
    "else: \n",
    "    print (\"Neither\");\n"
   ]
  },
  {
   "cell_type": "code",
   "execution_count": 11,
   "metadata": {},
   "outputs": [
    {
     "name": "stdout",
     "output_type": "stream",
     "text": [
      "x is 19\n",
      "y is19\n",
      "Neither\n"
     ]
    }
   ],
   "source": [
    "# x = costprice y = selling price\n",
    "x=int(input(\"x is \"));\n",
    "y=int(input(\"y is\"));\n",
    "if y>x:\n",
    "    print (\"Profit\");\n",
    "elif x>y:\n",
    "    print (\"Loss\");\n",
    "else: \n",
    "    print (\"Neither\");\n"
   ]
  },
  {
   "cell_type": "code",
   "execution_count": 12,
   "metadata": {},
   "outputs": [
    {
     "name": "stdout",
     "output_type": "stream",
     "text": [
      "x is 23\n",
      "y is7\n",
      "Loss\n"
     ]
    }
   ],
   "source": [
    "# x = costprice y = selling price\n",
    "x=int(input(\"x is \"));\n",
    "y=int(input(\"y is\"));\n",
    "if y>x:\n",
    "    print (\"Profit\");\n",
    "elif x>y:\n",
    "    print (\"Loss\");\n",
    "else: \n",
    "    print (\"Neither\");\n"
   ]
  },
  {
   "cell_type": "code",
   "execution_count": 13,
   "metadata": {},
   "outputs": [
    {
     "name": "stdout",
     "output_type": "stream",
     "text": [
      "x is 19\n",
      "y is95\n",
      "Profit\n"
     ]
    }
   ],
   "source": [
    "# x = costprice y = selling price\n",
    "x=int(input(\"x is \"));\n",
    "y=int(input(\"y is\"));\n",
    "if y>x:\n",
    "    print (\"Profit\");\n",
    "elif x>y:\n",
    "    print (\"Loss\");\n",
    "else: \n",
    "    print (\"Neither\");\n"
   ]
  },
  {
   "cell_type": "markdown",
   "metadata": {},
   "source": [
    "# Write a program that takes an amount in Euros as input. You need to find its equivalent inRupees and display it. Assume 1 Euro equals Rs. 80.\n",
    "Please note that you are expected to stick to the given input and output\n",
    "format as in sample test cases. Please don't add any extra lines such as\n",
    "'Enter a number', etc.\n",
    "Your program should take only one number as input and display the output."
   ]
  },
  {
   "cell_type": "code",
   "execution_count": 14,
   "metadata": {},
   "outputs": [
    {
     "name": "stdout",
     "output_type": "stream",
     "text": [
      "€ 20\n",
      " ₹  1600\n"
     ]
    }
   ],
   "source": [
    "Euro=int(input(\"€ \"));\n",
    "rupee=Euro * 80;\n",
    "print(\" ₹ \",rupee);"
   ]
  },
  {
   "cell_type": "code",
   "execution_count": 15,
   "metadata": {},
   "outputs": [
    {
     "name": "stdout",
     "output_type": "stream",
     "text": [
      "€ 50\n",
      " ₹  4000\n"
     ]
    }
   ],
   "source": [
    "Euro=int(input(\"€ \"));\n",
    "rupee=Euro * 80;\n",
    "print(\" ₹ \",rupee);"
   ]
  },
  {
   "cell_type": "code",
   "execution_count": 16,
   "metadata": {},
   "outputs": [
    {
     "name": "stdout",
     "output_type": "stream",
     "text": [
      "€ 72\n",
      " ₹  5760\n"
     ]
    }
   ],
   "source": [
    "Euro=int(input(\"€ \"));\n",
    "rupee=Euro * 80;\n",
    "print(\" ₹ \",rupee);"
   ]
  },
  {
   "cell_type": "code",
   "execution_count": 17,
   "metadata": {},
   "outputs": [
    {
     "name": "stdout",
     "output_type": "stream",
     "text": [
      "€ 7\n",
      " ₹  560\n"
     ]
    }
   ],
   "source": [
    "Euro=int(input(\"€ \"));\n",
    "rupee=Euro * 80;\n",
    "print(\" ₹ \",rupee);"
   ]
  },
  {
   "cell_type": "code",
   "execution_count": 18,
   "metadata": {},
   "outputs": [
    {
     "name": "stdout",
     "output_type": "stream",
     "text": [
      "€ 35\n",
      " ₹  2800\n"
     ]
    }
   ],
   "source": [
    "Euro=int(input(\"€ \"));\n",
    "rupee=Euro * 80;\n",
    "print(\" ₹ \",rupee);"
   ]
  },
  {
   "cell_type": "code",
   "execution_count": 19,
   "metadata": {},
   "outputs": [
    {
     "name": "stdout",
     "output_type": "stream",
     "text": [
      "€ 23\n",
      " ₹  1840\n"
     ]
    }
   ],
   "source": [
    "Euro=int(input(\"€ \"));\n",
    "rupee=Euro * 80;\n",
    "print(\" ₹ \",rupee);"
   ]
  },
  {
   "cell_type": "code",
   "execution_count": 20,
   "metadata": {},
   "outputs": [
    {
     "name": "stdout",
     "output_type": "stream",
     "text": [
      "€ 95\n",
      " ₹  7600\n"
     ]
    }
   ],
   "source": [
    "Euro=int(input(\"€ \"));\n",
    "rupee=Euro * 80;\n",
    "print(\" ₹ \",rupee);"
   ]
  },
  {
   "cell_type": "code",
   "execution_count": 21,
   "metadata": {},
   "outputs": [
    {
     "name": "stdout",
     "output_type": "stream",
     "text": [
      "€ 18\n",
      " ₹  1440\n"
     ]
    }
   ],
   "source": [
    "Euro=int(input(\"€ \"));\n",
    "rupee=Euro * 80;\n",
    "print(\" ₹ \",rupee);"
   ]
  },
  {
   "cell_type": "code",
   "execution_count": null,
   "metadata": {},
   "outputs": [],
   "source": []
  }
 ],
 "metadata": {
  "kernelspec": {
   "display_name": "Python 3",
   "language": "python",
   "name": "python3"
  },
  "language_info": {
   "codemirror_mode": {
    "name": "ipython",
    "version": 3
   },
   "file_extension": ".py",
   "mimetype": "text/x-python",
   "name": "python",
   "nbconvert_exporter": "python",
   "pygments_lexer": "ipython3",
   "version": "3.7.6"
  }
 },
 "nbformat": 4,
 "nbformat_minor": 4
}
